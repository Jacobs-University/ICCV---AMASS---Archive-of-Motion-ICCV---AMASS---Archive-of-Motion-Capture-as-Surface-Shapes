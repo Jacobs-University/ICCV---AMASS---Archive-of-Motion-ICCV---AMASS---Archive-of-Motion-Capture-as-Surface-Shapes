{
 "cells": [
  {
   "cell_type": "markdown",
   "metadata": {},
   "source": [
    "AMASS is a database which is ready to allow deep learning on it. However, it consists of human body parameters instead of images, manipulating the surface mesh of the [SMPL+H body model].\n",
    "\n",
    "The steps involved in training the DNN with the AMASS data are\n",
    "\n",
    "- transform the compressed AMASS *.npz files to Pytorch readable *.pt files\n",
    "- apply the data augmentations on the AMASS data and save them as *.hdf5 file\n",
    "- convert the *.hdf5 to *.pt\n"
   ]
  },
  {
   "cell_type": "markdown",
   "metadata": {},
   "source": [
    "Dependencies to run this notebook:\n",
    "- [Human Body Prior](https://github.com/nghorbani/human_body_prior)\n",
    "- [PyTorch>=1.1.0](https://pytorch.org/)\n",
    "- [PyTables](https://www.pytables.org/usersguide/installation.html)\n",
    "- [tqdm](https://pypi.org/project/tqdm/2.2.3/)\n",
    "- pyrender==0.1.39\n",
    "- configer\n",
    "- pyglet"
   ]
  },
  {
   "cell_type": "code",
   "execution_count": 12,
   "metadata": {},
   "outputs": [],
   "source": [
    "# Preparing the environment\n",
    "%load_ext autoreload\n",
    "%autoreload 2\n",
    "%matplotlib notebook\n",
    "%matplotlib inline\n",
    "\n",
    "import sys, os\n",
    "import torch\n",
    "import numpy as np"
   ]
  },
  {
   "cell_type": "code",
   "execution_count": 11,
   "metadata": {},
   "outputs": [],
   "source": [
    "import shutil, sys\n",
    "from torch.utils.data import Dataset\n",
    "import glob\n",
    "from datetime import datetime\n",
    "import torch\n",
    "from torch.utils.data import DataLoader\n",
    "import tables as pytables\n",
    "from tqdm import tqdm"
   ]
  },
  {
   "cell_type": "code",
   "execution_count": 5,
   "metadata": {},
   "outputs": [],
   "source": [
    "from human_body_prior.tools.omni_tools import makepath, log2file\n",
    "from human_body_prior.tools.omni_tools import copy2cpu as c2c\n",
    "from human_body_prior.tools.omni_tools import euler2em, em2euler"
   ]
  },
  {
   "cell_type": "markdown",
   "metadata": {},
   "source": [
    "download the body data npz files from https://amass.is.tue.mpg.de/datasets. \n",
    "\n",
    "Uncompress them at your desired location.\n",
    "\n",
    "initialize the amass_dir where the input files are located and the initialize the work_dir where the output files are then saved."
   ]
  },
  {
   "cell_type": "code",
   "execution_count": 20,
   "metadata": {},
   "outputs": [
    {
     "name": "stderr",
     "output_type": "stream",
     "text": [
      "[V1_SV1_T1] AMASS Data Preparation Began.\n",
      " Initial use of standard AMASS dataset preparation pipeline \n"
     ]
    }
   ],
   "source": [
    "amass_dir = \"D:/OneDrive - Jacobs University/DS projects/Image Processing Project/amass-master/data/\"\n",
    "\n",
    "work_dir = 'D:/OneDrive - Jacobs University/DS projects/Image Processing Project/amass-master'\n",
    "\n",
    "logger = log2file(os.path.join(work_dir, '.log'))\n",
    "logger('[V1_SV1_T1] AMASS Data Preparation Began.')\n",
    "logger('Initial use of standard AMASS dataset preparation pipeline ')"
   ]
  },
  {
   "cell_type": "markdown",
   "metadata": {},
   "source": [
    "Now you have to specify data splits for train/validation/test. Below is the recommended data splits by AMASS\n",
    "for train/validation/test that chooses data for each split from non-overlapping datasets. \n",
    "One reason is to avoid similarity of markersets used for the original data."
   ]
  },
  {
   "cell_type": "code",
   "execution_count": 9,
   "metadata": {},
   "outputs": [],
   "source": [
    "amass_splits = {\n",
    "    'vald': ['HumanEva', 'SFU', 'MPI_mosh'],\n",
    "    'test': ['Transitions_mocap', 'SSM_synced'],\n",
    "    'train': ['ACCAD', 'TCD_handMocap', 'TotalCapture', 'TCD_handMocap']\n",
    "}\n",
    "amass_splits['train'] = list(set(amass_splits['train']).difference(set(amass_splits['test'] + amass_splits['vald'])))"
   ]
  },
  {
   "cell_type": "code",
   "execution_count": 13,
   "metadata": {},
   "outputs": [],
   "source": [
    "amass_splits = {\n",
    "    'vald': ['SFU'],\n",
    "    'test': ['Transitions_mocap'],\n",
    "    'train': ['ACCAD', 'TCD_handMocap']\n",
    "}\n",
    "amass_splits['train'] = list(set(amass_splits['train']).difference(set(amass_splits['test'] + amass_splits['vald'])))"
   ]
  },
  {
   "cell_type": "markdown",
   "metadata": {},
   "source": [
    "Now we have tools in place to run the preparation code:"
   ]
  },
  {
   "cell_type": "code",
   "execution_count": 24,
   "metadata": {
    "scrolled": true
   },
   "outputs": [
    {
     "name": "stderr",
     "output_type": "stream",
     "text": [
      "Stage I: Fetch data from AMASS npz files\n",
      "randomly selecting data points from SFU.\n",
      "  2%|█▉                                                                                 | 1/44 [00:00<00:05,  8.37it/s]"
     ]
    },
    {
     "name": "stdout",
     "output_type": "stream",
     "text": [
      "<numpy.lib.npyio.NpzFile object at 0x000002AFB8404070>\n",
      "<numpy.lib.npyio.NpzFile object at 0x000002AFB879E160>\n"
     ]
    },
    {
     "name": "stderr",
     "output_type": "stream",
     "text": [
      " 11%|█████████▍                                                                         | 5/44 [00:00<00:03, 10.70it/s]"
     ]
    },
    {
     "name": "stdout",
     "output_type": "stream",
     "text": [
      "<numpy.lib.npyio.NpzFile object at 0x000002AFB8405880>\n",
      "<numpy.lib.npyio.NpzFile object at 0x000002AFB82BBDC0>\n",
      "<numpy.lib.npyio.NpzFile object at 0x000002AFB7EA3A00>\n",
      "<numpy.lib.npyio.NpzFile object at 0x000002AFB82C4580>\n"
     ]
    },
    {
     "name": "stderr",
     "output_type": "stream",
     "text": [
      " 16%|█████████████▏                                                                     | 7/44 [00:00<00:03,  9.54it/s]"
     ]
    },
    {
     "name": "stdout",
     "output_type": "stream",
     "text": [
      "<numpy.lib.npyio.NpzFile object at 0x000002AFB82A7550>\n",
      "<numpy.lib.npyio.NpzFile object at 0x000002AFB87B8040>\n"
     ]
    },
    {
     "name": "stderr",
     "output_type": "stream",
     "text": [
      " 20%|████████████████▉                                                                  | 9/44 [00:00<00:04,  7.02it/s]"
     ]
    },
    {
     "name": "stdout",
     "output_type": "stream",
     "text": [
      "<numpy.lib.npyio.NpzFile object at 0x000002AFB7EA3AC0>\n",
      "<numpy.lib.npyio.NpzFile object at 0x000002AFB8405AF0>\n"
     ]
    },
    {
     "name": "stderr",
     "output_type": "stream",
     "text": [
      "\r",
      " 23%|██████████████████▋                                                               | 10/44 [00:01<00:04,  7.45it/s]"
     ]
    },
    {
     "name": "stdout",
     "output_type": "stream",
     "text": [
      "<numpy.lib.npyio.NpzFile object at 0x000002AFB84056A0>\n",
      "<numpy.lib.npyio.NpzFile object at 0x000002AFB63A1730>\n"
     ]
    },
    {
     "name": "stderr",
     "output_type": "stream",
     "text": [
      " 30%|████████████████████████▏                                                         | 13/44 [00:01<00:04,  6.34it/s]"
     ]
    },
    {
     "name": "stdout",
     "output_type": "stream",
     "text": [
      "<numpy.lib.npyio.NpzFile object at 0x000002AFB8735280>\n"
     ]
    },
    {
     "name": "stderr",
     "output_type": "stream",
     "text": [
      "\r",
      " 32%|██████████████████████████                                                        | 14/44 [00:01<00:04,  6.76it/s]"
     ]
    },
    {
     "name": "stdout",
     "output_type": "stream",
     "text": [
      "<numpy.lib.npyio.NpzFile object at 0x000002AFB8404580>\n",
      "<numpy.lib.npyio.NpzFile object at 0x000002AFB84052E0>\n"
     ]
    },
    {
     "name": "stderr",
     "output_type": "stream",
     "text": [
      " 36%|█████████████████████████████▊                                                    | 16/44 [00:01<00:03,  7.53it/s]"
     ]
    },
    {
     "name": "stdout",
     "output_type": "stream",
     "text": [
      "<numpy.lib.npyio.NpzFile object at 0x000002AFB87B8610>\n",
      "<numpy.lib.npyio.NpzFile object at 0x000002AFB80C70A0>\n"
     ]
    },
    {
     "name": "stderr",
     "output_type": "stream",
     "text": [
      "\r",
      " 39%|███████████████████████████████▋                                                  | 17/44 [00:02<00:03,  6.75it/s]"
     ]
    },
    {
     "name": "stdout",
     "output_type": "stream",
     "text": [
      "<numpy.lib.npyio.NpzFile object at 0x000002AFB8735A30>\n",
      "<numpy.lib.npyio.NpzFile object at 0x000002AFB83E44F0>\n",
      "<numpy.lib.npyio.NpzFile object at 0x000002AFB8735DF0>\n",
      "<numpy.lib.npyio.NpzFile object at 0x000002AFB82C45B0>\n"
     ]
    },
    {
     "name": "stderr",
     "output_type": "stream",
     "text": [
      " 52%|██████████████████████████████████████████▊                                       | 23/44 [00:02<00:02,  8.62it/s]"
     ]
    },
    {
     "name": "stdout",
     "output_type": "stream",
     "text": [
      "<numpy.lib.npyio.NpzFile object at 0x000002AFB8405100>\n",
      "<numpy.lib.npyio.NpzFile object at 0x000002AFB83E4100>\n",
      "<numpy.lib.npyio.NpzFile object at 0x000002AFB87B8D00>\n"
     ]
    },
    {
     "name": "stderr",
     "output_type": "stream",
     "text": [
      " 57%|██████████████████████████████████████████████▌                                   | 25/44 [00:03<00:04,  4.46it/s]"
     ]
    },
    {
     "name": "stdout",
     "output_type": "stream",
     "text": [
      "<numpy.lib.npyio.NpzFile object at 0x000002AFB87B82B0>\n",
      "<numpy.lib.npyio.NpzFile object at 0x000002AFB8405250>\n"
     ]
    },
    {
     "name": "stderr",
     "output_type": "stream",
     "text": [
      " 61%|██████████████████████████████████████████████████▎                               | 27/44 [00:03<00:02,  5.68it/s]"
     ]
    },
    {
     "name": "stdout",
     "output_type": "stream",
     "text": [
      "<numpy.lib.npyio.NpzFile object at 0x000002AFB82C48E0>\n",
      "<numpy.lib.npyio.NpzFile object at 0x000002AFB83E4A90>\n"
     ]
    },
    {
     "name": "stderr",
     "output_type": "stream",
     "text": [
      "\r",
      " 66%|██████████████████████████████████████████████████████                            | 29/44 [00:03<00:02,  6.77it/s]"
     ]
    },
    {
     "name": "stdout",
     "output_type": "stream",
     "text": [
      "<numpy.lib.npyio.NpzFile object at 0x000002AFB83E4610>\n",
      "<numpy.lib.npyio.NpzFile object at 0x000002AFB83E48E0>\n",
      "<numpy.lib.npyio.NpzFile object at 0x000002AFB87B8040>\n"
     ]
    },
    {
     "name": "stderr",
     "output_type": "stream",
     "text": [
      " 77%|███████████████████████████████████████████████████████████████▎                  | 34/44 [00:04<00:01,  8.42it/s]"
     ]
    },
    {
     "name": "stdout",
     "output_type": "stream",
     "text": [
      "<numpy.lib.npyio.NpzFile object at 0x000002AFB82C4D00>\n",
      "<numpy.lib.npyio.NpzFile object at 0x000002AFB879E610>\n",
      "<numpy.lib.npyio.NpzFile object at 0x000002AFB879EB50>\n"
     ]
    },
    {
     "name": "stderr",
     "output_type": "stream",
     "text": [
      "\r",
      " 82%|███████████████████████████████████████████████████████████████████               | 36/44 [00:04<00:00,  8.62it/s]"
     ]
    },
    {
     "name": "stdout",
     "output_type": "stream",
     "text": [
      "<numpy.lib.npyio.NpzFile object at 0x000002AFB83FD9A0>\n",
      "<numpy.lib.npyio.NpzFile object at 0x000002AFB8735910>\n",
      "<numpy.lib.npyio.NpzFile object at 0x000002AFB82A7670>\n"
     ]
    },
    {
     "name": "stderr",
     "output_type": "stream",
     "text": [
      "\r",
      " 86%|██████████████████████████████████████████████████████████████████████▊           | 38/44 [00:04<00:00,  9.83it/s]"
     ]
    },
    {
     "name": "stdout",
     "output_type": "stream",
     "text": [
      "<numpy.lib.npyio.NpzFile object at 0x000002AFB83E4190>\n",
      "<numpy.lib.npyio.NpzFile object at 0x000002AFB84054F0>\n",
      "<numpy.lib.npyio.NpzFile object at 0x000002AFB83E44C0>\n"
     ]
    },
    {
     "name": "stderr",
     "output_type": "stream",
     "text": [
      " 95%|██████████████████████████████████████████████████████████████████████████████▎   | 42/44 [00:04<00:00, 10.89it/s]"
     ]
    },
    {
     "name": "stdout",
     "output_type": "stream",
     "text": [
      "<numpy.lib.npyio.NpzFile object at 0x000002AFB7EA3910>\n",
      "<numpy.lib.npyio.NpzFile object at 0x000002AFB80C70A0>\n",
      "<numpy.lib.npyio.NpzFile object at 0x000002AFB82A7220>\n"
     ]
    },
    {
     "name": "stderr",
     "output_type": "stream",
     "text": [
      "100%|██████████████████████████████████████████████████████████████████████████████████| 44/44 [00:05<00:00,  8.52it/s]\n",
      "randomly selecting data points from Transitions_mocap.\n",
      "  0%|                                                                                          | 0/110 [00:00<?, ?it/s]"
     ]
    },
    {
     "name": "stdout",
     "output_type": "stream",
     "text": [
      "<numpy.lib.npyio.NpzFile object at 0x000002AFB879E2E0>\n",
      "<numpy.lib.npyio.NpzFile object at 0x000002AFB8404E20>\n",
      "<numpy.lib.npyio.NpzFile object at 0x000002AFB7EA3910>"
     ]
    },
    {
     "name": "stderr",
     "output_type": "stream",
     "text": [
      "  3%|██▏                                                                               | 3/110 [00:00<00:08, 11.96it/s]"
     ]
    },
    {
     "name": "stdout",
     "output_type": "stream",
     "text": [
      "\n",
      "<numpy.lib.npyio.NpzFile object at 0x000002AFB8404910>\n",
      "<numpy.lib.npyio.NpzFile object at 0x000002AFB87B8D30>\n"
     ]
    },
    {
     "name": "stderr",
     "output_type": "stream",
     "text": [
      "\r",
      "  5%|███▋                                                                              | 5/110 [00:00<00:09, 11.10it/s]"
     ]
    },
    {
     "name": "stdout",
     "output_type": "stream",
     "text": [
      "<numpy.lib.npyio.NpzFile object at 0x000002AFB8735D60>\n",
      "<numpy.lib.npyio.NpzFile object at 0x000002AFB84056A0>\n",
      "<numpy.lib.npyio.NpzFile object at 0x000002AFB8405910>"
     ]
    },
    {
     "name": "stderr",
     "output_type": "stream",
     "text": [
      "  7%|█████▉                                                                            | 8/110 [00:00<00:10,  9.96it/s]"
     ]
    },
    {
     "name": "stdout",
     "output_type": "stream",
     "text": [
      "\n",
      "<numpy.lib.npyio.NpzFile object at 0x000002AFB8405BB0>\n"
     ]
    },
    {
     "name": "stderr",
     "output_type": "stream",
     "text": [
      "\r",
      "  8%|██████▋                                                                           | 9/110 [00:00<00:11,  8.56it/s]"
     ]
    },
    {
     "name": "stdout",
     "output_type": "stream",
     "text": [
      "<numpy.lib.npyio.NpzFile object at 0x000002AFB7EA3910>\n",
      "<numpy.lib.npyio.NpzFile object at 0x000002AFB82A73D0>\n"
     ]
    },
    {
     "name": "stderr",
     "output_type": "stream",
     "text": [
      "\r",
      " 10%|████████                                                                         | 11/110 [00:01<00:10,  9.14it/s]"
     ]
    },
    {
     "name": "stdout",
     "output_type": "stream",
     "text": [
      "<numpy.lib.npyio.NpzFile object at 0x000002AFB82C45B0>\n",
      "<numpy.lib.npyio.NpzFile object at 0x000002AFB879E280>\n",
      "<numpy.lib.npyio.NpzFile object at 0x000002AFB82C4490>\n"
     ]
    },
    {
     "name": "stderr",
     "output_type": "stream",
     "text": [
      " 14%|███████████                                                                      | 15/110 [00:01<00:09,  9.68it/s]"
     ]
    },
    {
     "name": "stdout",
     "output_type": "stream",
     "text": [
      "<numpy.lib.npyio.NpzFile object at 0x000002AFB82C4B20>\n",
      "<numpy.lib.npyio.NpzFile object at 0x000002AFB84046A0>\n",
      "<numpy.lib.npyio.NpzFile object at 0x000002AFB87B8730>\n"
     ]
    },
    {
     "name": "stderr",
     "output_type": "stream",
     "text": [
      "\r",
      " 15%|████████████▌                                                                    | 17/110 [00:01<00:09,  9.77it/s]"
     ]
    },
    {
     "name": "stdout",
     "output_type": "stream",
     "text": [
      "<numpy.lib.npyio.NpzFile object at 0x000002AFB87B83A0>\n",
      "<numpy.lib.npyio.NpzFile object at 0x000002AFB87B8880>\n"
     ]
    },
    {
     "name": "stderr",
     "output_type": "stream",
     "text": [
      "\r",
      " 17%|█████████████▉                                                                   | 19/110 [00:01<00:08, 10.14it/s]"
     ]
    },
    {
     "name": "stdout",
     "output_type": "stream",
     "text": [
      "<numpy.lib.npyio.NpzFile object at 0x000002AFB83D7A30>\n",
      "<numpy.lib.npyio.NpzFile object at 0x000002AFB83FD6A0>\n",
      "<numpy.lib.npyio.NpzFile object at 0x000002AFB82C4100>\n"
     ]
    },
    {
     "name": "stderr",
     "output_type": "stream",
     "text": [
      " 21%|████████████████▉                                                                | 23/110 [00:02<00:08, 10.56it/s]"
     ]
    },
    {
     "name": "stdout",
     "output_type": "stream",
     "text": [
      "<numpy.lib.npyio.NpzFile object at 0x000002AFB879EA60>\n",
      "<numpy.lib.npyio.NpzFile object at 0x000002AFB8405250>\n",
      "<numpy.lib.npyio.NpzFile object at 0x000002AFB8735BE0>\n",
      "<numpy.lib.npyio.NpzFile object at 0x000002AFB83E4430>\n"
     ]
    },
    {
     "name": "stderr",
     "output_type": "stream",
     "text": [
      " 25%|███████████████████▉                                                             | 27/110 [00:02<00:06, 11.91it/s]"
     ]
    },
    {
     "name": "stdout",
     "output_type": "stream",
     "text": [
      "<numpy.lib.npyio.NpzFile object at 0x000002AFB83E41C0>\n",
      "<numpy.lib.npyio.NpzFile object at 0x000002AFB8735700>\n",
      "<numpy.lib.npyio.NpzFile object at 0x000002AFB8405A30>\n"
     ]
    },
    {
     "name": "stderr",
     "output_type": "stream",
     "text": [
      "\r",
      " 26%|█████████████████████▎                                                           | 29/110 [00:02<00:07, 10.72it/s]"
     ]
    },
    {
     "name": "stdout",
     "output_type": "stream",
     "text": [
      "<numpy.lib.npyio.NpzFile object at 0x000002AFB83FDD30>\n",
      "<numpy.lib.npyio.NpzFile object at 0x000002AFB8404910>\n"
     ]
    },
    {
     "name": "stderr",
     "output_type": "stream",
     "text": [
      "\r",
      " 28%|██████████████████████▊                                                          | 31/110 [00:02<00:07, 10.83it/s]"
     ]
    },
    {
     "name": "stdout",
     "output_type": "stream",
     "text": [
      "<numpy.lib.npyio.NpzFile object at 0x000002AFB87B8AF0>\n",
      "<numpy.lib.npyio.NpzFile object at 0x000002AFB7EA3910>\n"
     ]
    },
    {
     "name": "stderr",
     "output_type": "stream",
     "text": [
      "\r",
      " 30%|████████████████████████▎                                                        | 33/110 [00:03<00:07,  9.94it/s]"
     ]
    },
    {
     "name": "stdout",
     "output_type": "stream",
     "text": [
      "<numpy.lib.npyio.NpzFile object at 0x000002AFB82A7940>\n",
      "<numpy.lib.npyio.NpzFile object at 0x000002AFB82C4E50>\n",
      "<numpy.lib.npyio.NpzFile object at 0x000002AFB879E160>\n"
     ]
    },
    {
     "name": "stderr",
     "output_type": "stream",
     "text": [
      " 34%|███████████████████████████▏                                                     | 37/110 [00:03<00:06, 10.84it/s]"
     ]
    },
    {
     "name": "stdout",
     "output_type": "stream",
     "text": [
      "<numpy.lib.npyio.NpzFile object at 0x000002AFB879E280>\n",
      "<numpy.lib.npyio.NpzFile object at 0x000002AFB83E46A0>\n",
      "<numpy.lib.npyio.NpzFile object at 0x000002AFB83E48B0>\n"
     ]
    },
    {
     "name": "stderr",
     "output_type": "stream",
     "text": [
      "\r",
      " 35%|████████████████████████████▋                                                    | 39/110 [00:03<00:06, 10.57it/s]"
     ]
    },
    {
     "name": "stdout",
     "output_type": "stream",
     "text": [
      "<numpy.lib.npyio.NpzFile object at 0x000002AFB83E4430>\n",
      "<numpy.lib.npyio.NpzFile object at 0x000002AFB83E4070>\n"
     ]
    },
    {
     "name": "stderr",
     "output_type": "stream",
     "text": [
      "\r",
      " 37%|██████████████████████████████▏                                                  | 41/110 [00:03<00:07,  9.61it/s]"
     ]
    },
    {
     "name": "stdout",
     "output_type": "stream",
     "text": [
      "<numpy.lib.npyio.NpzFile object at 0x000002AFB8405BB0>\n",
      "<numpy.lib.npyio.NpzFile object at 0x000002AFB83D7CA0>\n",
      "<numpy.lib.npyio.NpzFile object at 0x000002AFB8404B80>\n"
     ]
    },
    {
     "name": "stderr",
     "output_type": "stream",
     "text": [
      " 41%|█████████████████████████████████▏                                               | 45/110 [00:04<00:05, 11.37it/s]"
     ]
    },
    {
     "name": "stdout",
     "output_type": "stream",
     "text": [
      "<numpy.lib.npyio.NpzFile object at 0x000002AFB82BB160>\n",
      "<numpy.lib.npyio.NpzFile object at 0x000002AFB87B87C0>\n",
      "<numpy.lib.npyio.NpzFile object at 0x000002AFB8154D00>\n"
     ]
    },
    {
     "name": "stderr",
     "output_type": "stream",
     "text": [
      "\r",
      " 43%|██████████████████████████████████▌                                              | 47/110 [00:04<00:06, 10.17it/s]"
     ]
    },
    {
     "name": "stdout",
     "output_type": "stream",
     "text": [
      "<numpy.lib.npyio.NpzFile object at 0x000002AFB8404C40>\n",
      "<numpy.lib.npyio.NpzFile object at 0x000002AFB87B8100>\n"
     ]
    },
    {
     "name": "stderr",
     "output_type": "stream",
     "text": [
      "\r",
      " 45%|████████████████████████████████████                                             | 49/110 [00:04<00:06,  9.98it/s]"
     ]
    },
    {
     "name": "stdout",
     "output_type": "stream",
     "text": [
      "<numpy.lib.npyio.NpzFile object at 0x000002AFB8405D60>\n",
      "<numpy.lib.npyio.NpzFile object at 0x000002AFB82C48E0>\n",
      "<numpy.lib.npyio.NpzFile object at 0x000002AFB83E4850>\n"
     ]
    },
    {
     "name": "stderr",
     "output_type": "stream",
     "text": [
      " 48%|███████████████████████████████████████                                          | 53/110 [00:05<00:05, 10.80it/s]"
     ]
    },
    {
     "name": "stdout",
     "output_type": "stream",
     "text": [
      "<numpy.lib.npyio.NpzFile object at 0x000002AFB83E4DC0>\n",
      "<numpy.lib.npyio.NpzFile object at 0x000002AFB83E4190>\n",
      "<numpy.lib.npyio.NpzFile object at 0x000002AFB82C4580>\n"
     ]
    },
    {
     "name": "stderr",
     "output_type": "stream",
     "text": [
      "\r",
      " 50%|████████████████████████████████████████▌                                        | 55/110 [00:05<00:05, 10.46it/s]"
     ]
    },
    {
     "name": "stdout",
     "output_type": "stream",
     "text": [
      "<numpy.lib.npyio.NpzFile object at 0x000002AFB8405D90>\n",
      "<numpy.lib.npyio.NpzFile object at 0x000002AFB83D7A30>\n"
     ]
    },
    {
     "name": "stderr",
     "output_type": "stream",
     "text": [
      "\r",
      " 52%|█████████████████████████████████████████▉                                       | 57/110 [00:05<00:04, 11.19it/s]"
     ]
    },
    {
     "name": "stdout",
     "output_type": "stream",
     "text": [
      "<numpy.lib.npyio.NpzFile object at 0x000002AFB8404F70>\n",
      "<numpy.lib.npyio.NpzFile object at 0x000002AFB87B8400>\n",
      "<numpy.lib.npyio.NpzFile object at 0x000002AFB83D7CA0>\n"
     ]
    },
    {
     "name": "stderr",
     "output_type": "stream",
     "text": [
      " 55%|████████████████████████████████████████████▉                                    | 61/110 [00:05<00:04, 11.32it/s]"
     ]
    },
    {
     "name": "stdout",
     "output_type": "stream",
     "text": [
      "<numpy.lib.npyio.NpzFile object at 0x000002AFB7EA3AC0>\n",
      "<numpy.lib.npyio.NpzFile object at 0x000002AFB82C4070>\n",
      "<numpy.lib.npyio.NpzFile object at 0x000002AFB8404FA0>\n"
     ]
    },
    {
     "name": "stderr",
     "output_type": "stream",
     "text": [
      "\r",
      " 57%|██████████████████████████████████████████████▍                                  | 63/110 [00:05<00:04, 11.43it/s]"
     ]
    },
    {
     "name": "stdout",
     "output_type": "stream",
     "text": [
      "<numpy.lib.npyio.NpzFile object at 0x000002AFB8405520>\n",
      "<numpy.lib.npyio.NpzFile object at 0x000002AFB815B5B0>\n",
      "<numpy.lib.npyio.NpzFile object at 0x000002AFB83E44C0>\n"
     ]
    },
    {
     "name": "stderr",
     "output_type": "stream",
     "text": [
      " 61%|█████████████████████████████████████████████████▎                               | 67/110 [00:06<00:04, 10.69it/s]"
     ]
    },
    {
     "name": "stdout",
     "output_type": "stream",
     "text": [
      "<numpy.lib.npyio.NpzFile object at 0x000002AFB83E44F0>\n",
      "<numpy.lib.npyio.NpzFile object at 0x000002AFB815B5B0>\n"
     ]
    },
    {
     "name": "stderr",
     "output_type": "stream",
     "text": [
      "\r",
      " 63%|██████████████████████████████████████████████████▊                              | 69/110 [00:06<00:03, 10.37it/s]"
     ]
    },
    {
     "name": "stdout",
     "output_type": "stream",
     "text": [
      "<numpy.lib.npyio.NpzFile object at 0x000002AFB8735160>\n",
      "<numpy.lib.npyio.NpzFile object at 0x000002AFB814C520>\n",
      "<numpy.lib.npyio.NpzFile object at 0x000002AFB7EA3A00>\n"
     ]
    },
    {
     "name": "stderr",
     "output_type": "stream",
     "text": [
      " 66%|█████████████████████████████████████████████████████▊                           | 73/110 [00:06<00:03, 11.46it/s]"
     ]
    },
    {
     "name": "stdout",
     "output_type": "stream",
     "text": [
      "<numpy.lib.npyio.NpzFile object at 0x000002AFB8404E20>\n",
      "<numpy.lib.npyio.NpzFile object at 0x000002AFB83FDBB0>\n",
      "<numpy.lib.npyio.NpzFile object at 0x000002AFB87B8E80>\n",
      "<numpy.lib.npyio.NpzFile object at 0x000002AFB7EA3A00>\n",
      "<numpy.lib.npyio.NpzFile object at 0x000002AFB814C520>\n"
     ]
    },
    {
     "name": "stderr",
     "output_type": "stream",
     "text": [
      " 70%|████████████████████████████████████████████████████████▋                        | 77/110 [00:07<00:02, 11.12it/s]"
     ]
    },
    {
     "name": "stdout",
     "output_type": "stream",
     "text": [
      "<numpy.lib.npyio.NpzFile object at 0x000002AFB815BB20>\n",
      "<numpy.lib.npyio.NpzFile object at 0x000002AFB8405520>\n",
      "<numpy.lib.npyio.NpzFile object at 0x000002AFB879E7F0>\n"
     ]
    },
    {
     "name": "stderr",
     "output_type": "stream",
     "text": [
      "\r",
      " 72%|██████████████████████████████████████████████████████████▏                      | 79/110 [00:07<00:02, 11.46it/s]"
     ]
    },
    {
     "name": "stdout",
     "output_type": "stream",
     "text": [
      "<numpy.lib.npyio.NpzFile object at 0x000002AFB83E4820>\n",
      "<numpy.lib.npyio.NpzFile object at 0x000002AFB83E4760>\n"
     ]
    },
    {
     "name": "stderr",
     "output_type": "stream",
     "text": [
      "\r",
      " 74%|███████████████████████████████████████████████████████████▋                     | 81/110 [00:07<00:03,  8.20it/s]"
     ]
    },
    {
     "name": "stdout",
     "output_type": "stream",
     "text": [
      "<numpy.lib.npyio.NpzFile object at 0x000002AFB83E45B0>\n"
     ]
    },
    {
     "name": "stderr",
     "output_type": "stream",
     "text": [
      "\r",
      " 75%|█████████████████████████████████████████████████████████████                    | 83/110 [00:08<00:03,  8.29it/s]"
     ]
    },
    {
     "name": "stdout",
     "output_type": "stream",
     "text": [
      "<numpy.lib.npyio.NpzFile object at 0x000002AFB8129340>\n",
      "<numpy.lib.npyio.NpzFile object at 0x000002AFB82A7970>\n",
      "<numpy.lib.npyio.NpzFile object at 0x000002AFB8404070>\n"
     ]
    },
    {
     "name": "stderr",
     "output_type": "stream",
     "text": [
      "\r",
      " 77%|██████████████████████████████████████████████████████████████▌                  | 85/110 [00:08<00:02,  9.22it/s]"
     ]
    },
    {
     "name": "stdout",
     "output_type": "stream",
     "text": [
      "<numpy.lib.npyio.NpzFile object at 0x000002AFB87B8670>\n",
      "<numpy.lib.npyio.NpzFile object at 0x000002AFB87B8430>\n",
      "<numpy.lib.npyio.NpzFile object at 0x000002AFB8404AC0>\n"
     ]
    },
    {
     "name": "stderr",
     "output_type": "stream",
     "text": [
      " 81%|█████████████████████████████████████████████████████████████████▌               | 89/110 [00:08<00:01, 11.20it/s]"
     ]
    },
    {
     "name": "stdout",
     "output_type": "stream",
     "text": [
      "<numpy.lib.npyio.NpzFile object at 0x000002AFB82C4070>\n",
      "<numpy.lib.npyio.NpzFile object at 0x000002AFB83CED30>\n",
      "<numpy.lib.npyio.NpzFile object at 0x000002AFB8405A60>\n"
     ]
    },
    {
     "name": "stderr",
     "output_type": "stream",
     "text": [
      "\r",
      " 83%|███████████████████████████████████████████████████████████████████              | 91/110 [00:08<00:01, 12.30it/s]"
     ]
    },
    {
     "name": "stdout",
     "output_type": "stream",
     "text": [
      "<numpy.lib.npyio.NpzFile object at 0x000002AFB87355E0>\n",
      "<numpy.lib.npyio.NpzFile object at 0x000002AFB83E4A00>\n",
      "<numpy.lib.npyio.NpzFile object at 0x000002AFB83E4FD0>\n"
     ]
    },
    {
     "name": "stderr",
     "output_type": "stream",
     "text": [
      " 86%|█████████████████████████████████████████████████████████████████████▉           | 95/110 [00:09<00:01, 11.97it/s]"
     ]
    },
    {
     "name": "stdout",
     "output_type": "stream",
     "text": [
      "<numpy.lib.npyio.NpzFile object at 0x000002AFB8411B80>\n",
      "<numpy.lib.npyio.NpzFile object at 0x000002AFB83E41F0>\n",
      "<numpy.lib.npyio.NpzFile object at 0x000002AFB81107F0>\n"
     ]
    },
    {
     "name": "stderr",
     "output_type": "stream",
     "text": [
      " 90%|████████████████████████████████████████████████████████████████████████▉        | 99/110 [00:09<00:00, 12.20it/s]"
     ]
    },
    {
     "name": "stdout",
     "output_type": "stream",
     "text": [
      "<numpy.lib.npyio.NpzFile object at 0x000002AFB8735F40>\n",
      "<numpy.lib.npyio.NpzFile object at 0x000002AFB815B5B0>\n",
      "<numpy.lib.npyio.NpzFile object at 0x000002AFB83FDD30>\n"
     ]
    },
    {
     "name": "stderr",
     "output_type": "stream",
     "text": [
      "\r",
      " 92%|█████████████████████████████████████████████████████████████████████████▍      | 101/110 [00:09<00:00, 13.53it/s]"
     ]
    },
    {
     "name": "stdout",
     "output_type": "stream",
     "text": [
      "<numpy.lib.npyio.NpzFile object at 0x000002AFB8404760>\n",
      "<numpy.lib.npyio.NpzFile object at 0x000002AFB7EA3910>\n",
      "<numpy.lib.npyio.NpzFile object at 0x000002AFB82C4070>\n",
      "<numpy.lib.npyio.NpzFile object at 0x000002AFB879EBE0>\n",
      "<numpy.lib.npyio.NpzFile object at 0x000002AFB83D1700>\n",
      "<numpy.lib.npyio.NpzFile object at 0x000002AFB8735730>\n"
     ]
    },
    {
     "name": "stderr",
     "output_type": "stream",
     "text": [
      "100%|████████████████████████████████████████████████████████████████████████████████| 110/110 [00:09<00:00, 11.34it/s]\n",
      "randomly selecting data points from ACCAD.\n",
      "  0%|                                                                                          | 0/252 [00:00<?, ?it/s]"
     ]
    },
    {
     "name": "stdout",
     "output_type": "stream",
     "text": [
      "<numpy.lib.npyio.NpzFile object at 0x000002AFB83E4FA0>\n",
      "<numpy.lib.npyio.NpzFile object at 0x000002AFB8411A90>\n",
      "<numpy.lib.npyio.NpzFile object at 0x000002AFB84117C0>\n",
      "<numpy.lib.npyio.NpzFile object at 0x000002AFB8411DF0>\n",
      "<numpy.lib.npyio.NpzFile object at 0x000002AFB84112E0>\n",
      "<numpy.lib.npyio.NpzFile object at 0x000002AFB87351F0>\n",
      "<numpy.lib.npyio.NpzFile object at 0x000002AFB8405460>\n",
      "<numpy.lib.npyio.NpzFile object at 0x000002AFB83CE460>\n"
     ]
    },
    {
     "name": "stderr",
     "output_type": "stream",
     "text": [
      "  2%|█▎                                                                                | 4/252 [00:00<00:14, 16.57it/s]"
     ]
    },
    {
     "name": "stdout",
     "output_type": "stream",
     "text": [
      "<numpy.lib.npyio.NpzFile object at 0x000002AFB82A7820>\n",
      "<numpy.lib.npyio.NpzFile object at 0x000002AFB879EF40>\n",
      "<numpy.lib.npyio.NpzFile object at 0x000002AFB63A1730>\n",
      "<numpy.lib.npyio.NpzFile object at 0x000002AFB83D1700>\n",
      "<numpy.lib.npyio.NpzFile object at 0x000002AFB8735130>\n",
      "<numpy.lib.npyio.NpzFile object at 0x000002AFB84114C0>\n",
      "<numpy.lib.npyio.NpzFile object at 0x000002AFB84110D0>\n",
      "<numpy.lib.npyio.NpzFile object at 0x000002AFB8411C70>\n"
     ]
    },
    {
     "name": "stderr",
     "output_type": "stream",
     "text": [
      "  8%|██████                                                                           | 19/252 [00:00<00:08, 26.75it/s]"
     ]
    },
    {
     "name": "stdout",
     "output_type": "stream",
     "text": [
      "<numpy.lib.npyio.NpzFile object at 0x000002AFB8411A90>\n",
      "<numpy.lib.npyio.NpzFile object at 0x000002AFB83EA700>\n",
      "<numpy.lib.npyio.NpzFile object at 0x000002AFB82C4070>\n",
      "<numpy.lib.npyio.NpzFile object at 0x000002AFB8404040>\n",
      "<numpy.lib.npyio.NpzFile object at 0x000002AFB84044C0>\n",
      "<numpy.lib.npyio.NpzFile object at 0x000002AFB815B5B0>\n",
      "<numpy.lib.npyio.NpzFile object at 0x000002AFB83CE7F0>\n",
      "<numpy.lib.npyio.NpzFile object at 0x000002AFB8735670>\n",
      "<numpy.lib.npyio.NpzFile object at 0x000002AFB84114C0>\n",
      "<numpy.lib.npyio.NpzFile object at 0x000002AFB815B5B0>\n",
      "<numpy.lib.npyio.NpzFile object at 0x000002AFB82A7400>\n"
     ]
    },
    {
     "name": "stderr",
     "output_type": "stream",
     "text": [
      " 16%|████████████▊                                                                    | 40/252 [00:00<00:05, 40.31it/s]"
     ]
    },
    {
     "name": "stdout",
     "output_type": "stream",
     "text": [
      "<numpy.lib.npyio.NpzFile object at 0x000002AFB87B8520>\n",
      "<numpy.lib.npyio.NpzFile object at 0x000002AFB83EA700>\n",
      "<numpy.lib.npyio.NpzFile object at 0x000002AFB83D7CA0>\n",
      "<numpy.lib.npyio.NpzFile object at 0x000002AFB83CE6A0>\n",
      "<numpy.lib.npyio.NpzFile object at 0x000002AFB879EB20>\n",
      "<numpy.lib.npyio.NpzFile object at 0x000002AFB81F75E0>\n",
      "<numpy.lib.npyio.NpzFile object at 0x000002AFB87351C0>\n",
      "<numpy.lib.npyio.NpzFile object at 0x000002AFB83E4940>\n",
      "<numpy.lib.npyio.NpzFile object at 0x000002AFB83E4FA0>\n",
      "<numpy.lib.npyio.NpzFile object at 0x000002AFB8411DF0>\n",
      "<numpy.lib.npyio.NpzFile object at 0x000002AFB8411CA0>\n",
      "<numpy.lib.npyio.NpzFile object at 0x000002AFB87B8E50>\n",
      "<numpy.lib.npyio.NpzFile object at 0x000002AFB87B8DC0>\n",
      "<numpy.lib.npyio.NpzFile object at 0x000002AFB81F70A0>\n",
      "<numpy.lib.npyio.NpzFile object at 0x000002AFB8411A00>\n",
      "<numpy.lib.npyio.NpzFile object at 0x000002AFB81E3070>\n",
      "<numpy.lib.npyio.NpzFile object at 0x000002AFB83E4DF0>\n",
      "<numpy.lib.npyio.NpzFile object at 0x000002AFB8735B20>\n",
      "<numpy.lib.npyio.NpzFile object at 0x000002AFB83D1700>\n",
      "<numpy.lib.npyio.NpzFile object at 0x000002AFB83FDCA0>\n",
      "<numpy.lib.npyio.NpzFile object at 0x000002AFB879E490>\n",
      "<numpy.lib.npyio.NpzFile object at 0x000002AFB814C520>\n",
      "<numpy.lib.npyio.NpzFile object at 0x000002AFB7EA3A00>\n",
      "<numpy.lib.npyio.NpzFile object at 0x000002AFB83CE3A0>\n",
      "<numpy.lib.npyio.NpzFile object at 0x000002AFB63A1730>\n",
      "<numpy.lib.npyio.NpzFile object at 0x000002AFB8405B50>\n",
      "<numpy.lib.npyio.NpzFile object at 0x000002AFB87353A0>\n",
      "<numpy.lib.npyio.NpzFile object at 0x000002AFB83E4BE0>"
     ]
    },
    {
     "name": "stderr",
     "output_type": "stream",
     "text": [
      " 24%|███████████████████▌                                                             | 61/252 [00:00<00:03, 57.02it/s]"
     ]
    },
    {
     "name": "stdout",
     "output_type": "stream",
     "text": [
      "\n",
      "<numpy.lib.npyio.NpzFile object at 0x000002AFB84110A0>\n",
      "<numpy.lib.npyio.NpzFile object at 0x000002AFB8404070>\n",
      "<numpy.lib.npyio.NpzFile object at 0x000002AFB87B8A00>\n",
      "<numpy.lib.npyio.NpzFile object at 0x000002AFB63A1730>\n",
      "<numpy.lib.npyio.NpzFile object at 0x000002AFB83E41C0>\n",
      "<numpy.lib.npyio.NpzFile object at 0x000002AFB8735070>\n",
      "<numpy.lib.npyio.NpzFile object at 0x000002AFB83CE7F0>\n",
      "<numpy.lib.npyio.NpzFile object at 0x000002AFB83FDD30>\n",
      "<numpy.lib.npyio.NpzFile object at 0x000002AFB82A7B80>\n",
      "<numpy.lib.npyio.NpzFile object at 0x000002AFB7EA3A00>\n",
      "<numpy.lib.npyio.NpzFile object at 0x000002AFB81E3070>\n",
      "<numpy.lib.npyio.NpzFile object at 0x000002AFB8405460>\n",
      "<numpy.lib.npyio.NpzFile object at 0x000002AFB8735310>\n",
      "<numpy.lib.npyio.NpzFile object at 0x000002AFB8405C70>\n",
      "<numpy.lib.npyio.NpzFile object at 0x000002AFB8411190>\n"
     ]
    },
    {
     "name": "stderr",
     "output_type": "stream",
     "text": [
      " 31%|█████████████████████████▍                                                       | 79/252 [00:01<00:02, 64.46it/s]"
     ]
    },
    {
     "name": "stdout",
     "output_type": "stream",
     "text": [
      "<numpy.lib.npyio.NpzFile object at 0x000002AFB8404910>\n",
      "<numpy.lib.npyio.NpzFile object at 0x000002AFB87B8D00>\n",
      "<numpy.lib.npyio.NpzFile object at 0x000002AFB8411550>\n",
      "<numpy.lib.npyio.NpzFile object at 0x000002AFB84114C0>\n",
      "<numpy.lib.npyio.NpzFile object at 0x000002AFB8735F40>\n",
      "<numpy.lib.npyio.NpzFile object at 0x000002AFB7EA3A00>\n",
      "<numpy.lib.npyio.NpzFile object at 0x000002AFB83D7C40>\n",
      "<numpy.lib.npyio.NpzFile object at 0x000002AFB814C970>\n",
      "<numpy.lib.npyio.NpzFile object at 0x000002AFB83CE970>\n",
      "<numpy.lib.npyio.NpzFile object at 0x000002AFB879EC40>\n",
      "<numpy.lib.npyio.NpzFile object at 0x000002AFB84056A0>\n",
      "<numpy.lib.npyio.NpzFile object at 0x000002AFB83E4820>\n",
      "<numpy.lib.npyio.NpzFile object at 0x000002AFB8404FA0>\n",
      "<numpy.lib.npyio.NpzFile object at 0x000002AFB8411730>\n"
     ]
    },
    {
     "name": "stderr",
     "output_type": "stream",
     "text": [
      "\r",
      " 35%|████████████████████████████▎                                                    | 88/252 [00:01<00:02, 69.60it/s]"
     ]
    },
    {
     "name": "stdout",
     "output_type": "stream",
     "text": [
      "<numpy.lib.npyio.NpzFile object at 0x000002AFB8411C70>\n",
      "<numpy.lib.npyio.NpzFile object at 0x000002AFB63A1730>\n",
      "<numpy.lib.npyio.NpzFile object at 0x000002AFB81F75E0>\n",
      "<numpy.lib.npyio.NpzFile object at 0x000002AFB83FDCA0>\n",
      "<numpy.lib.npyio.NpzFile object at 0x000002AFB879EEB0>\n",
      "<numpy.lib.npyio.NpzFile object at 0x000002AFB82C45B0>\n",
      "<numpy.lib.npyio.NpzFile object at 0x000002AFB82C4D00>\n",
      "<numpy.lib.npyio.NpzFile object at 0x000002AFB83FD610>\n",
      "<numpy.lib.npyio.NpzFile object at 0x000002AFB81107F0>\n",
      "<numpy.lib.npyio.NpzFile object at 0x000002AFB879E7F0>\n",
      "<numpy.lib.npyio.NpzFile object at 0x000002AFB83E4EE0>\n",
      "<numpy.lib.npyio.NpzFile object at 0x000002AFB82A79D0>\n",
      "<numpy.lib.npyio.NpzFile object at 0x000002AFB83E4220>\n",
      "<numpy.lib.npyio.NpzFile object at 0x000002AFB87B8520>\n",
      "<numpy.lib.npyio.NpzFile object at 0x000002AFB84112B0>\n",
      "<numpy.lib.npyio.NpzFile object at 0x000002AFB84117F0>\n"
     ]
    },
    {
     "name": "stderr",
     "output_type": "stream",
     "text": [
      " 42%|█████████████████████████████████▎                                              | 105/252 [00:01<00:02, 72.07it/s]"
     ]
    },
    {
     "name": "stdout",
     "output_type": "stream",
     "text": [
      "<numpy.lib.npyio.NpzFile object at 0x000002AFB82A7A30>\n",
      "<numpy.lib.npyio.NpzFile object at 0x000002AFB81F7130>\n",
      "<numpy.lib.npyio.NpzFile object at 0x000002AFB83CE7F0>\n",
      "<numpy.lib.npyio.NpzFile object at 0x000002AFB82BBC10>\n",
      "<numpy.lib.npyio.NpzFile object at 0x000002AFB82C4100>\n",
      "<numpy.lib.npyio.NpzFile object at 0x000002AFB82C4D00>\n",
      "<numpy.lib.npyio.NpzFile object at 0x000002AFB82BBDC0>\n",
      "<numpy.lib.npyio.NpzFile object at 0x000002AFB83CEA00>\n",
      "<numpy.lib.npyio.NpzFile object at 0x000002AFB8735B20>\n",
      "<numpy.lib.npyio.NpzFile object at 0x000002AFB83E42B0>\n",
      "<numpy.lib.npyio.NpzFile object at 0x000002AFB82A7460>\n",
      "<numpy.lib.npyio.NpzFile object at 0x000002AFB8411280>\n",
      "<numpy.lib.npyio.NpzFile object at 0x000002AFB87B8D00>"
     ]
    },
    {
     "name": "stderr",
     "output_type": "stream",
     "text": [
      "\r",
      " 45%|███████████████████████████████████▊                                            | 113/252 [00:01<00:02, 63.66it/s]"
     ]
    },
    {
     "name": "stdout",
     "output_type": "stream",
     "text": [
      "\n",
      "<numpy.lib.npyio.NpzFile object at 0x000002AFB84119A0>\n",
      "<numpy.lib.npyio.NpzFile object at 0x000002AFB82A7460>\n",
      "<numpy.lib.npyio.NpzFile object at 0x000002AFB82BBAC0>\n",
      "<numpy.lib.npyio.NpzFile object at 0x000002AFB815B5B0>\n",
      "<numpy.lib.npyio.NpzFile object at 0x000002AFB8154D00>\n",
      "<numpy.lib.npyio.NpzFile object at 0x000002AFB82C45B0>\n",
      "<numpy.lib.npyio.NpzFile object at 0x000002AFB8405BB0>\n",
      "<numpy.lib.npyio.NpzFile object at 0x000002AFB81F75E0>\n",
      "<numpy.lib.npyio.NpzFile object at 0x000002AFB8405BB0>\n",
      "<numpy.lib.npyio.NpzFile object at 0x000002AFB82A7670>\n",
      "<numpy.lib.npyio.NpzFile object at 0x000002AFB8411AC0>\n"
     ]
    },
    {
     "name": "stderr",
     "output_type": "stream",
     "text": [
      " 54%|██████████████████████████████████████████▊                                     | 135/252 [00:01<00:01, 66.14it/s]"
     ]
    },
    {
     "name": "stdout",
     "output_type": "stream",
     "text": [
      "<numpy.lib.npyio.NpzFile object at 0x000002AFB83FD6A0>\n",
      "<numpy.lib.npyio.NpzFile object at 0x000002AFB815BB20>\n",
      "<numpy.lib.npyio.NpzFile object at 0x000002AFB82C45B0>\n",
      "<numpy.lib.npyio.NpzFile object at 0x000002AFB8154D00>\n",
      "<numpy.lib.npyio.NpzFile object at 0x000002AFB82BBE50>\n",
      "<numpy.lib.npyio.NpzFile object at 0x000002AFB83CE970>\n",
      "<numpy.lib.npyio.NpzFile object at 0x000002AFB8735EB0>\n",
      "<numpy.lib.npyio.NpzFile object at 0x000002AFB83E4F70>\n",
      "<numpy.lib.npyio.NpzFile object at 0x000002AFB83E4E80>\n",
      "<numpy.lib.npyio.NpzFile object at 0x000002AFB8404040>\n",
      "<numpy.lib.npyio.NpzFile object at 0x000002AFB84119D0>\n",
      "<numpy.lib.npyio.NpzFile object at 0x000002AFB8411700>\n",
      "<numpy.lib.npyio.NpzFile object at 0x000002AFB87B8940>\n",
      "<numpy.lib.npyio.NpzFile object at 0x000002AFB879E670>\n",
      "<numpy.lib.npyio.NpzFile object at 0x000002AFB879EEB0>\n",
      "<numpy.lib.npyio.NpzFile object at 0x000002AFB879EBE0>\n",
      "<numpy.lib.npyio.NpzFile object at 0x000002AFB87B8CD0>\n",
      "<numpy.lib.npyio.NpzFile object at 0x000002AFB87B8220>\n",
      "<numpy.lib.npyio.NpzFile object at 0x000002AFB84112B0>\n",
      "<numpy.lib.npyio.NpzFile object at 0x000002AFB8411DC0>\n",
      "<numpy.lib.npyio.NpzFile object at 0x000002AFB82A7220>\n",
      "<numpy.lib.npyio.NpzFile object at 0x000002AFB82A7400>\n",
      "<numpy.lib.npyio.NpzFile object at 0x000002AFB8154D00>\n",
      "<numpy.lib.npyio.NpzFile object at 0x000002AFB81FBC10>"
     ]
    },
    {
     "name": "stderr",
     "output_type": "stream",
     "text": [
      " 65%|████████████████████████████████████████████████████▍                           | 165/252 [00:02<00:00, 91.68it/s]"
     ]
    },
    {
     "name": "stdout",
     "output_type": "stream",
     "text": [
      "\n",
      "<numpy.lib.npyio.NpzFile object at 0x000002AFB814CDF0>\n",
      "<numpy.lib.npyio.NpzFile object at 0x000002AFB82C4490>\n",
      "<numpy.lib.npyio.NpzFile object at 0x000002AFB82BB8B0>\n",
      "<numpy.lib.npyio.NpzFile object at 0x000002AFB83FDD30>\n",
      "<numpy.lib.npyio.NpzFile object at 0x000002AFB81E3070>\n",
      "<numpy.lib.npyio.NpzFile object at 0x000002AFB83FDCA0>\n",
      "<numpy.lib.npyio.NpzFile object at 0x000002AFB83FDD30>\n",
      "<numpy.lib.npyio.NpzFile object at 0x000002AFB83E45B0>\n",
      "<numpy.lib.npyio.NpzFile object at 0x000002AFB83E40D0>\n",
      "<numpy.lib.npyio.NpzFile object at 0x000002AFB84117C0>\n",
      "<numpy.lib.npyio.NpzFile object at 0x000002AFB84118B0>\n",
      "<numpy.lib.npyio.NpzFile object at 0x000002AFB8411F40>\n",
      "<numpy.lib.npyio.NpzFile object at 0x000002AFB87B8280>\n",
      "<numpy.lib.npyio.NpzFile object at 0x000002AFB879E550>\n",
      "<numpy.lib.npyio.NpzFile object at 0x000002AFB879EB20>\n",
      "<numpy.lib.npyio.NpzFile object at 0x000002AFB879E3A0>\n",
      "<numpy.lib.npyio.NpzFile object at 0x000002AFB87B8EE0>\n",
      "<numpy.lib.npyio.NpzFile object at 0x000002AFB8411340>\n",
      "<numpy.lib.npyio.NpzFile object at 0x000002AFB63A1730>\n",
      "<numpy.lib.npyio.NpzFile object at 0x000002AFB81E3070>\n",
      "<numpy.lib.npyio.NpzFile object at 0x000002AFB81FBC10>\n",
      "<numpy.lib.npyio.NpzFile object at 0x000002AFB83FD880>\n",
      "<numpy.lib.npyio.NpzFile object at 0x000002AFB83CEAF0>\n",
      "<numpy.lib.npyio.NpzFile object at 0x000002AFB82C4F40>\n",
      "<numpy.lib.npyio.NpzFile object at 0x000002AFB7EA3AC0>\n",
      "<numpy.lib.npyio.NpzFile object at 0x000002AFB83CEA30>\n",
      "<numpy.lib.npyio.NpzFile object at 0x000002AFB82A7940>\n",
      "<numpy.lib.npyio.NpzFile object at 0x000002AFB83E48E0>\n"
     ]
    },
    {
     "name": "stderr",
     "output_type": "stream",
     "text": [
      " 76%|████████████████████████████████████████████████████████████▏                  | 192/252 [00:02<00:00, 107.54it/s]"
     ]
    },
    {
     "name": "stdout",
     "output_type": "stream",
     "text": [
      "<numpy.lib.npyio.NpzFile object at 0x000002AFB8404040>\n",
      "<numpy.lib.npyio.NpzFile object at 0x000002AFB82BBE50>\n",
      "<numpy.lib.npyio.NpzFile object at 0x000002AFB82C4E50>\n",
      "<numpy.lib.npyio.NpzFile object at 0x000002AFB879E910>\n",
      "<numpy.lib.npyio.NpzFile object at 0x000002AFB8411460>\n",
      "<numpy.lib.npyio.NpzFile object at 0x000002AFB87B8C10>\n",
      "<numpy.lib.npyio.NpzFile object at 0x000002AFB81FE790>\n",
      "<numpy.lib.npyio.NpzFile object at 0x000002AFB82BB8B0>\n",
      "<numpy.lib.npyio.NpzFile object at 0x000002AFB81107F0>\n",
      "<numpy.lib.npyio.NpzFile object at 0x000002AFB82A7460>\n",
      "<numpy.lib.npyio.NpzFile object at 0x000002AFB7EA3A00>\n",
      "<numpy.lib.npyio.NpzFile object at 0x000002AFB8735340>\n",
      "<numpy.lib.npyio.NpzFile object at 0x000002AFB83CE430>\n",
      "<numpy.lib.npyio.NpzFile object at 0x000002AFB8411E50>\n",
      "<numpy.lib.npyio.NpzFile object at 0x000002AFB87B8C40>\n",
      "<numpy.lib.npyio.NpzFile object at 0x000002AFB8411A90>\n",
      "<numpy.lib.npyio.NpzFile object at 0x000002AFB815BE20>\n",
      "<numpy.lib.npyio.NpzFile object at 0x000002AFB82A7400>\n",
      "<numpy.lib.npyio.NpzFile object at 0x000002AFB83CE6A0>\n",
      "<numpy.lib.npyio.NpzFile object at 0x000002AFB63A1730>\n",
      "<numpy.lib.npyio.NpzFile object at 0x000002AFB83E4B80>\n",
      "<numpy.lib.npyio.NpzFile object at 0x000002AFB82BBFA0>\n",
      "<numpy.lib.npyio.NpzFile object at 0x000002AFB82C4490>\n",
      "<numpy.lib.npyio.NpzFile object at 0x000002AFB8405250>\n",
      "<numpy.lib.npyio.NpzFile object at 0x000002AFB879E280>\n",
      "<numpy.lib.npyio.NpzFile object at 0x000002AFB87B8CA0>\n",
      "<numpy.lib.npyio.NpzFile object at 0x000002AFB879EE50>"
     ]
    },
    {
     "name": "stderr",
     "output_type": "stream",
     "text": [
      " 87%|████████████████████████████████████████████████████████████████████▎          | 218/252 [00:02<00:00, 113.95it/s]"
     ]
    },
    {
     "name": "stdout",
     "output_type": "stream",
     "text": [
      "\n",
      "<numpy.lib.npyio.NpzFile object at 0x000002AFB84052E0>\n",
      "<numpy.lib.npyio.NpzFile object at 0x000002AFB82C4D00>\n",
      "<numpy.lib.npyio.NpzFile object at 0x000002AFB84046D0>\n",
      "<numpy.lib.npyio.NpzFile object at 0x000002AFB81E3070>\n",
      "<numpy.lib.npyio.NpzFile object at 0x000002AFB83CE760>\n",
      "<numpy.lib.npyio.NpzFile object at 0x000002AFB83D7DC0>\n",
      "<numpy.lib.npyio.NpzFile object at 0x000002AFB8411940>\n",
      "<numpy.lib.npyio.NpzFile object at 0x000002AFB8411190>\n",
      "<numpy.lib.npyio.NpzFile object at 0x000002AFB8411220>\n",
      "<numpy.lib.npyio.NpzFile object at 0x000002AFB7EA3AC0>\n",
      "<numpy.lib.npyio.NpzFile object at 0x000002AFB814C7F0>\n",
      "<numpy.lib.npyio.NpzFile object at 0x000002AFB8735CD0>\n",
      "<numpy.lib.npyio.NpzFile object at 0x000002AFB63A1730>\n",
      "<numpy.lib.npyio.NpzFile object at 0x000002AFB8404280>\n",
      "<numpy.lib.npyio.NpzFile object at 0x000002AFB82C4EE0>\n",
      "<numpy.lib.npyio.NpzFile object at 0x000002AFB879E100>\n",
      "<numpy.lib.npyio.NpzFile object at 0x000002AFB87B8A00>\n",
      "<numpy.lib.npyio.NpzFile object at 0x000002AFB8129340>\n",
      "<numpy.lib.npyio.NpzFile object at 0x000002AFB81FE790>\n",
      "<numpy.lib.npyio.NpzFile object at 0x000002AFB83CED30>\n",
      "<numpy.lib.npyio.NpzFile object at 0x000002AFB7EA3AC0>\n",
      "<numpy.lib.npyio.NpzFile object at 0x000002AFB83D7430>\n"
     ]
    },
    {
     "name": "stderr",
     "output_type": "stream",
     "text": [
      "\r",
      " 92%|████████████████████████████████████████████████████████████████████████▋      | 232/252 [00:02<00:00, 119.12it/s]"
     ]
    },
    {
     "name": "stdout",
     "output_type": "stream",
     "text": [
      "<numpy.lib.npyio.NpzFile object at 0x000002AFB82A73D0>\n",
      "<numpy.lib.npyio.NpzFile object at 0x000002AFB8411340>\n",
      "<numpy.lib.npyio.NpzFile object at 0x000002AFB879E7F0>\n",
      "<numpy.lib.npyio.NpzFile object at 0x000002AFB879E610>\n",
      "<numpy.lib.npyio.NpzFile object at 0x000002AFB879E820>\n",
      "<numpy.lib.npyio.NpzFile object at 0x000002AFB82A7670>\n",
      "<numpy.lib.npyio.NpzFile object at 0x000002AFB81F70A0>\n",
      "<numpy.lib.npyio.NpzFile object at 0x000002AFB84116A0>\n",
      "<numpy.lib.npyio.NpzFile object at 0x000002AFB83EA700>\n",
      "<numpy.lib.npyio.NpzFile object at 0x000002AFB83E4EE0>\n",
      "<numpy.lib.npyio.NpzFile object at 0x000002AFB8404580>\n",
      "<numpy.lib.npyio.NpzFile object at 0x000002AFB8405970>\n",
      "<numpy.lib.npyio.NpzFile object at 0x000002AFB8404FA0>\n",
      "<numpy.lib.npyio.NpzFile object at 0x000002AFB82C4BB0>\n",
      "<numpy.lib.npyio.NpzFile object at 0x000002AFB8405100>\n",
      "<numpy.lib.npyio.NpzFile object at 0x000002AFB8404760>\n",
      "<numpy.lib.npyio.NpzFile object at 0x000002AFB8129340>\n",
      "<numpy.lib.npyio.NpzFile object at 0x000002AFB83E4940>\n",
      "<numpy.lib.npyio.NpzFile object at 0x000002AFB87357F0>\n",
      "<numpy.lib.npyio.NpzFile object at 0x000002AFB8411400>\n",
      "<numpy.lib.npyio.NpzFile object at 0x000002AFB8411160>\n",
      "<numpy.lib.npyio.NpzFile object at 0x000002AFB879E820>\n",
      "<numpy.lib.npyio.NpzFile object at 0x000002AFB87B85E0>\n",
      "<numpy.lib.npyio.NpzFile object at 0x000002AFB87B8C40>\n"
     ]
    },
    {
     "name": "stderr",
     "output_type": "stream",
     "text": [
      "100%|████████████████████████████████████████████████████████████████████████████████| 252/252 [00:02<00:00, 88.71it/s]\n",
      "randomly selecting data points from TCD_handMocap.\n",
      "  0%|                                                                                           | 0/62 [00:00<?, ?it/s]"
     ]
    },
    {
     "name": "stdout",
     "output_type": "stream",
     "text": [
      "<numpy.lib.npyio.NpzFile object at 0x000002AFB87B8C70>\n",
      "<numpy.lib.npyio.NpzFile object at 0x000002AFB879EEE0>\n",
      "<numpy.lib.npyio.NpzFile object at 0x000002AFB83D1700>\n",
      "<numpy.lib.npyio.NpzFile object at 0x000002AFB83D7DC0>\n",
      "<numpy.lib.npyio.NpzFile object at 0x000002AFB63A1730>\n",
      "<numpy.lib.npyio.NpzFile object at 0x000002AFB83D7DC0>\n",
      "<numpy.lib.npyio.NpzFile object at 0x000002AFB8404310>\n",
      "<numpy.lib.npyio.NpzFile object at 0x000002AFB83EA700>\n",
      "<numpy.lib.npyio.NpzFile object at 0x000002AFB82A7B80>\n",
      "<numpy.lib.npyio.NpzFile object at 0x000002AFB8404BB0>\n",
      "<numpy.lib.npyio.NpzFile object at 0x000002AFB8735310>\n",
      "<numpy.lib.npyio.NpzFile object at 0x000002AFB8411F70>\n",
      "<numpy.lib.npyio.NpzFile object at 0x000002AFB879E100>\n",
      "<numpy.lib.npyio.NpzFile object at 0x000002AFB879EF10>\n",
      "<numpy.lib.npyio.NpzFile object at 0x000002AFB87B84F0>\n",
      "<numpy.lib.npyio.NpzFile object at 0x000002AFB8405340>\n",
      "<numpy.lib.npyio.NpzFile object at 0x000002AFB87B8B20>\n",
      "<numpy.lib.npyio.NpzFile object at 0x000002AFB879E880>\n"
     ]
    },
    {
     "name": "stderr",
     "output_type": "stream",
     "text": [
      " 27%|██████████████████████▍                                                           | 17/62 [00:00<00:00, 84.23it/s]"
     ]
    },
    {
     "name": "stdout",
     "output_type": "stream",
     "text": [
      "<numpy.lib.npyio.NpzFile object at 0x000002AFB7EA3A00>\n",
      "<numpy.lib.npyio.NpzFile object at 0x000002AFB63A1730>\n",
      "<numpy.lib.npyio.NpzFile object at 0x000002AFB84047F0>\n",
      "<numpy.lib.npyio.NpzFile object at 0x000002AFB82C4C70>\n",
      "<numpy.lib.npyio.NpzFile object at 0x000002AFB8404160>\n",
      "<numpy.lib.npyio.NpzFile object at 0x000002AFB83E4610>\n",
      "<numpy.lib.npyio.NpzFile object at 0x000002AFB8129340>\n",
      "<numpy.lib.npyio.NpzFile object at 0x000002AFB879E220>\n",
      "<numpy.lib.npyio.NpzFile object at 0x000002AFB87B88E0>\n",
      "<numpy.lib.npyio.NpzFile object at 0x000002AFB87B8250>\n",
      "<numpy.lib.npyio.NpzFile object at 0x000002AFB83D7A60>\n",
      "<numpy.lib.npyio.NpzFile object at 0x000002AFB82BB310>\n",
      "<numpy.lib.npyio.NpzFile object at 0x000002AFB82A7400>\n",
      "<numpy.lib.npyio.NpzFile object at 0x000002AFB83E4BB0>\n"
     ]
    },
    {
     "name": "stderr",
     "output_type": "stream",
     "text": [
      " 68%|███████████████████████████████████████████████████████▌                          | 42/62 [00:00<00:00, 91.68it/s]"
     ]
    },
    {
     "name": "stdout",
     "output_type": "stream",
     "text": [
      "<numpy.lib.npyio.NpzFile object at 0x000002AFB82C4E50>\n",
      "<numpy.lib.npyio.NpzFile object at 0x000002AFB87B8760>\n",
      "<numpy.lib.npyio.NpzFile object at 0x000002AFB87B88B0>\n",
      "<numpy.lib.npyio.NpzFile object at 0x000002AFB63A1730>\n",
      "<numpy.lib.npyio.NpzFile object at 0x000002AFB83D7C40>\n",
      "<numpy.lib.npyio.NpzFile object at 0x000002AFB8411E50>\n",
      "<numpy.lib.npyio.NpzFile object at 0x000002AFB879E550>\n",
      "<numpy.lib.npyio.NpzFile object at 0x000002AFB87B8220>\n",
      "<numpy.lib.npyio.NpzFile object at 0x000002AFB87B8A30>\n",
      "<numpy.lib.npyio.NpzFile object at 0x000002AFB87B8FA0>\n",
      "<numpy.lib.npyio.NpzFile object at 0x000002AFB87B8EE0>\n",
      "<numpy.lib.npyio.NpzFile object at 0x000002AFB63A1730>\n",
      "<numpy.lib.npyio.NpzFile object at 0x000002AFB83D7A30>\n",
      "<numpy.lib.npyio.NpzFile object at 0x000002AFB815BDC0>\n",
      "<numpy.lib.npyio.NpzFile object at 0x000002AFB8411E80>\n",
      "<numpy.lib.npyio.NpzFile object at 0x000002AFB8735C10>\n",
      "<numpy.lib.npyio.NpzFile object at 0x000002AFB83CE6A0>\n",
      "<numpy.lib.npyio.NpzFile object at 0x000002AFB83E4730>\n",
      "<numpy.lib.npyio.NpzFile object at 0x000002AFB82C4EE0>\n"
     ]
    },
    {
     "name": "stderr",
     "output_type": "stream",
     "text": [
      "\r",
      " 81%|██████████████████████████████████████████████████████████████████▏               | 50/62 [00:00<00:00, 63.46it/s]"
     ]
    },
    {
     "name": "stdout",
     "output_type": "stream",
     "text": [
      "<numpy.lib.npyio.NpzFile object at 0x000002AFB8735EE0>\n",
      "<numpy.lib.npyio.NpzFile object at 0x000002AFB83D7310>\n",
      "<numpy.lib.npyio.NpzFile object at 0x000002AFB8411430>\n",
      "<numpy.lib.npyio.NpzFile object at 0x000002AFB879E790>\n",
      "<numpy.lib.npyio.NpzFile object at 0x000002AFB87B8CD0>\n",
      "<numpy.lib.npyio.NpzFile object at 0x000002AFB87B8460>\n",
      "<numpy.lib.npyio.NpzFile object at 0x000002AFB87B8A30>\n",
      "<numpy.lib.npyio.NpzFile object at 0x000002AFB83D78E0>\n",
      "<numpy.lib.npyio.NpzFile object at 0x000002AFB879E160>\n"
     ]
    },
    {
     "name": "stderr",
     "output_type": "stream",
     "text": [
      "100%|██████████████████████████████████████████████████████████████████████████████████| 62/62 [00:00<00:00, 73.93it/s]\n"
     ]
    },
    {
     "name": "stdout",
     "output_type": "stream",
     "text": [
      "<numpy.lib.npyio.NpzFile object at 0x000002AFB7EA3AC0>\n",
      "<numpy.lib.npyio.NpzFile object at 0x000002AFB87358E0>\n",
      "<numpy.lib.npyio.NpzFile object at 0x000002AFB82BBFA0>\n",
      "<numpy.lib.npyio.NpzFile object at 0x000002AFB82A72B0>\n",
      "<numpy.lib.npyio.NpzFile object at 0x000002AFB8404310>\n",
      "<numpy.lib.npyio.NpzFile object at 0x000002AFB8129340>\n",
      "<numpy.lib.npyio.NpzFile object at 0x000002AFB879EDC0>\n",
      "<numpy.lib.npyio.NpzFile object at 0x000002AFB87B8610>\n",
      "<numpy.lib.npyio.NpzFile object at 0x000002AFB87B8B20>\n",
      "<numpy.lib.npyio.NpzFile object at 0x000002AFB83E4610>\n"
     ]
    },
    {
     "name": "stderr",
     "output_type": "stream",
     "text": [
      "Stage II: augment the data and save into h5 files to be used in a cross framework scenario.\n",
      "vald has 854 data points!\n",
      "4it [00:02,  1.82it/s]\n",
      "test has 811 data points!\n",
      "4it [00:00,  4.13it/s]\n",
      "train has 1852 data points!\n",
      "8it [00:02,  3.74it/s]\n",
      "\n",
      "Stage III: dump every data field for all the splits as final pytorch pt files\n",
      "Dumped final pytorch dataset at D:/OneDrive - Jacobs University/DS projects/Image Processing Project/amass-master\\stage_III\n"
     ]
    }
   ],
   "source": [
    "prepare_amass(amass_splits, amass_dir, work_dir, logger=logger)"
   ]
  },
  {
   "cell_type": "markdown",
   "metadata": {},
   "source": [
    "## Visualization of the prepared data"
   ]
  },
  {
   "cell_type": "markdown",
   "metadata": {},
   "source": [
    "read the prepared *.pt files using Pytorch's dataloader"
   ]
  },
  {
   "cell_type": "code",
   "execution_count": 25,
   "metadata": {},
   "outputs": [
    {
     "name": "stdout",
     "output_type": "stream",
     "text": [
      "Test split has 811 datapoints.\n"
     ]
    }
   ],
   "source": [
    "from torch.utils.data import Dataset\n",
    "from torch.utils.data import DataLoader\n",
    "import glob \n",
    "\n",
    "class AMASS_DS(Dataset):\n",
    "    \"\"\"AMASS: a pytorch loader for unified human motion capture dataset. http://amass.is.tue.mpg.de/\"\"\"\n",
    "\n",
    "    def __init__(self, dataset_dir, num_betas=16):\n",
    "\n",
    "        self.ds = {}\n",
    "        for data_fname in glob.glob(os.path.join(dataset_dir, '*.pt')):\n",
    "            k = os.path.basename(data_fname).replace('.pt','')\n",
    "            self.ds[k] = torch.load(data_fname)\n",
    "        self.num_betas = num_betas\n",
    "\n",
    "    def __len__(self):\n",
    "        return len(self.ds['trans'])\n",
    "\n",
    "    def __getitem__(self, idx):\n",
    "        data =  {k: self.ds[k][idx] for k in self.ds.keys()}\n",
    "        data['root_orient'] = data['pose'][:3]\n",
    "        data['pose_body'] = data['pose'][3:66]\n",
    "        data['pose_hand'] = data['pose'][66:]\n",
    "        data['betas'] = data['betas'][:self.num_betas]\n",
    "\n",
    "        return data\n",
    "\n",
    "num_betas = 16 # number of body parameters\n",
    "testsplit_dir = os.path.join(work_dir, 'stage_III', 'test')\n",
    "\n",
    "ds = AMASS_DS(dataset_dir=testsplit_dir, num_betas=num_betas)\n",
    "print('Test split has %d datapoints.'%len(ds))\n",
    "\n",
    "batch_size = 5\n",
    "dataloader = DataLoader(ds, batch_size=batch_size, shuffle=True, num_workers=0)"
   ]
  },
  {
   "cell_type": "code",
   "execution_count": 22,
   "metadata": {},
   "outputs": [],
   "source": [
    "import trimesh\n",
    "from human_body_prior.tools.omni_tools import colors\n",
    "from human_body_prior.mesh import MeshViewer\n",
    "from human_body_prior.mesh.sphere import points_to_spheres\n",
    "from human_body_prior.tools.omni_tools import apply_mesh_tranfsormations_\n",
    "from human_body_prior.tools.visualization_tools import imagearray2file\n",
    "from human_body_prior.notebooks.notebook_tools import show_image\n",
    "\n",
    "imw, imh=1600, 1600\n",
    "mv = MeshViewer(width=imw, height=imh, use_offscreen=True)"
   ]
  },
  {
   "cell_type": "code",
   "execution_count": 34,
   "metadata": {},
   "outputs": [],
   "source": [
    "from human_body_prior.body_model.body_model import BodyModel\n",
    "bm_path = \"D:/OneDrive - Jacobs University/DS projects/Image Processing Project/amass-master/github_data/male/model.npz\"\n",
    "\n",
    "bm = BodyModel(bm_path=bm_path, num_betas=num_betas, batch_size=batch_size)\n",
    "faces = c2c(bm.f)\n",
    "\n",
    "bdata = next(iter(dataloader))\n",
    "body_v = bm.forward(pose_body=bdata['pose_body'], betas=bdata['betas']).v"
   ]
  },
  {
   "cell_type": "code",
   "execution_count": 45,
   "metadata": {},
   "outputs": [],
   "source": [
    "view_angles = [0, 180, 90, -90]\n",
    "images = np.zeros([len(view_angles), batch_size, 1, imw, imh, 3])\n",
    "for cId in range(0, batch_size):\n",
    "\n",
    "    orig_body_mesh = trimesh.Trimesh(vertices=c2c(body_v[cId]), faces=c2c(bm.f), vertex_colors=np.tile(colors['grey'], (6890, 1)))\n",
    "\n",
    "    for rId, angle in enumerate(view_angles):\n",
    "        if angle != 0: apply_mesh_tranfsormations_([orig_body_mesh], trimesh.transformations.rotation_matrix(np.radians(angle), (0, 1, 0)))\n",
    "        mv.set_meshes([orig_body_mesh], group_name='static')\n",
    "        images[rId, cId, 0] = mv.render()\n",
    "\n",
    "        if angle != 0: apply_mesh_tranfsormations_([orig_body_mesh], trimesh.transformations.rotation_matrix(np.radians(-angle), (0, 1, 0)))\n"
   ]
  },
  {
   "cell_type": "code",
   "execution_count": 48,
   "metadata": {},
   "outputs": [
    {
     "data": {
      "image/png": "[encoded data removed]",
      "text/plain": [
       "<Figure size 1200x1200 with 1 Axes>"
      ]
     },
     "metadata": {
      "needs_background": "light"
     },
     "output_type": "display_data"
    }
   ],
   "source": [
    "img = imagearray2file(images)\n",
    "show_image(np.array(img)[0])"
   ]
  },
  {
   "cell_type": "markdown",
   "metadata": {},
   "source": [
    "Each column in the above is a data point, and we rotate the body on each row to visualize it in different angles.\n",
    "AMASS has recently been used to train a human body before raising a 2D-to-3D expressive human body image.\n",
    "\n",
    "References:\n",
    "- (https://smpl-x.is.tue.mpg.de/en)\n",
    "- (https://github.com/nghorbani/human_body_prior)"
   ]
  }
 ],
 "metadata": {
  "kernelspec": {
   "display_name": "Python 3",
   "language": "python",
   "name": "python3"
  },
  "language_info": {
   "codemirror_mode": {
    "name": "ipython",
    "version": 3
   },
   "file_extension": ".py",
   "mimetype": "text/x-python",
   "name": "python",
   "nbconvert_exporter": "python",
   "pygments_lexer": "ipython3",
   "version": "3.8.3"
  },
  "latex_envs": {
   "LaTeX_envs_menu_present": true,
   "autoclose": false,
   "autocomplete": true,
   "bibliofile": "biblio.bib",
   "cite_by": "apalike",
   "current_citInitial": 1,
   "eqLabelWithNumbers": true,
   "eqNumInitial": 1,
   "hotkeys": {
    "equation": "Ctrl-E",
    "itemize": "Ctrl-I"
   },
   "labels_anchors": false,
   "latex_user_defs": false,
   "report_style_numbering": false,
   "user_envs_cfg": false
  },
  "toc": {
   "base_numbering": 1,
   "nav_menu": {},
   "number_sections": true,
   "sideBar": true,
   "skip_h1_title": false,
   "title_cell": "Table of Contents",
   "title_sidebar": "Contents",
   "toc_cell": false,
   "toc_position": {},
   "toc_section_display": true,
   "toc_window_display": false
  },
  "varInspector": {
   "cols": {
    "lenName": 16,
    "lenType": 16,
    "lenVar": 40
   },
   "kernels_config": {
    "python": {
     "delete_cmd_postfix": "",
     "delete_cmd_prefix": "del ",
     "library": "var_list.py",
     "varRefreshCmd": "print(var_dic_list())"
    },
    "r": {
     "delete_cmd_postfix": ") ",
     "delete_cmd_prefix": "rm(",
     "library": "var_list.r",
     "varRefreshCmd": "cat(var_dic_list()) "
    }
   },
   "types_to_exclude": [
    "module",
    "function",
    "builtin_function_or_method",
    "instance",
    "_Feature"
   ],
   "window_display": false
  }
 },
 "nbformat": 4,
 "nbformat_minor": 2
}
